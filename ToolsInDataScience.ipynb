{
 "cells": [
  {
   "cell_type": "markdown",
   "metadata": {},
   "source": [
    "# Title: Tools In Data Science"
   ]
  },
  {
   "cell_type": "markdown",
   "metadata": {},
   "source": [
    "## Introduction: This is a jupyter notebook for the tools in Data Science coursera program assignment"
   ]
  },
  {
   "cell_type": "markdown",
   "metadata": {},
   "source": [
    "## Data Science Languages Include: \n",
    "1. Python \n",
    "2. R \n",
    "3. Java \n",
    "4. Scala  \n",
    "5. C++ \n",
    "6. More"
   ]
  },
  {
   "cell_type": "markdown",
   "metadata": {},
   "source": [
    "## Data Science Libraries include: \n",
    "1. Pandas\n",
    "2. Numpy\n",
    "3. Scipy\n",
    "4. Tensorflow\n",
    "5. Keras\n",
    "6. Matplotlib \n",
    "## R Libraries\n",
    "1. ggplot \n",
    "2. pyplot"
   ]
  },
  {
   "cell_type": "markdown",
   "metadata": {},
   "source": [
    "## Data Science Tools Table\n",
    "|Languages|Databases|Libraries|\n",
    "|---------|---------|---------|\n",
    "|Python   |MySQL    |Pandas   |\n",
    "|R        |Postgres |Tensorflow|\n",
    "|Java     |MongoDB  |Matplotlib|"
   ]
  },
  {
   "cell_type": "markdown",
   "metadata": {},
   "source": [
    "## The following code will demonstrate basic arithmitic examples"
   ]
  },
  {
   "cell_type": "code",
   "execution_count": 3,
   "metadata": {},
   "outputs": [
    {
     "name": "stdout",
     "output_type": "stream",
     "text": [
      "A x B = 192\n",
      "A + B = 28\n"
     ]
    }
   ],
   "source": [
    "# Multiply and Add numbers\n",
    "a =input(\"Number A: \")\n",
    "b = input(\"Number B: \")\n",
    "a = int(a)\n",
    "b = int(b)\n",
    "print(\"A x B = \" + str(a*b))\n",
    "print(\"A + B = \" + str(a+b))"
   ]
  },
  {
   "cell_type": "code",
   "execution_count": 5,
   "metadata": {},
   "outputs": [
    {
     "name": "stdout",
     "output_type": "stream",
     "text": [
      "0.25\n"
     ]
    }
   ],
   "source": [
    "# Convert Minutes to Hours\n",
    "minutes = input(\"Minutes: \")\n",
    "hours = float(minutes)/60\n",
    "print(round(hours,2))"
   ]
  },
  {
   "cell_type": "markdown",
   "metadata": {},
   "source": [
    "Objectives:\n",
    "- Publish a Jupyter Notebook\n",
    "- Write basic python code\n",
    "- distinguish Markdown vs Code cells"
   ]
  },
  {
   "cell_type": "markdown",
   "metadata": {},
   "source": [
    "<dl>\n",
    "<dt>Author</dt>\n",
    "<dd>Nikolas Wilson</dd>"
   ]
  }
 ],
 "metadata": {
  "kernelspec": {
   "display_name": "Python 3",
   "language": "python",
   "name": "python3"
  },
  "language_info": {
   "codemirror_mode": {
    "name": "ipython",
    "version": 3
   },
   "file_extension": ".py",
   "mimetype": "text/x-python",
   "name": "python",
   "nbconvert_exporter": "python",
   "pygments_lexer": "ipython3",
   "version": "3.10.13"
  }
 },
 "nbformat": 4,
 "nbformat_minor": 2
}
